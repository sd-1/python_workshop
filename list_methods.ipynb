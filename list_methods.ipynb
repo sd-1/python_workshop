{
  "nbformat": 4,
  "nbformat_minor": 0,
  "metadata": {
    "colab": {
      "provenance": [],
      "authorship_tag": "ABX9TyMFmvR76PQzFyEfY6Cjwjw+",
      "include_colab_link": true
    },
    "kernelspec": {
      "name": "python3",
      "display_name": "Python 3"
    },
    "language_info": {
      "name": "python"
    }
  },
  "cells": [
    {
      "cell_type": "markdown",
      "metadata": {
        "id": "view-in-github",
        "colab_type": "text"
      },
      "source": [
        "<a href=\"https://colab.research.google.com/github/sd-1/python_workshop/blob/main/list_methods.ipynb\" target=\"_parent\"><img src=\"https://colab.research.google.com/assets/colab-badge.svg\" alt=\"Open In Colab\"/></a>"
      ]
    },
    {
      "cell_type": "code",
      "execution_count": null,
      "metadata": {
        "id": "Eof_XLpY0Wx3",
        "colab": {
          "base_uri": "https://localhost:8080/"
        },
        "outputId": "297c6443-fb78-4302-b389-dda65028282c"
      },
      "outputs": [
        {
          "output_type": "stream",
          "name": "stdout",
          "text": [
            "After append and extend: [10, 8, 7, 6, 5, 4, 2, 1]\n",
            "After insert and remove: [10, 8, 7, 6, 5, 4, 2, 1]\n",
            "Popped element: 9\n",
            "Index of 5: 4\n",
            "Count of 2: 1\n",
            "Sorted list: [10, 8, 7, 6, 5, 4, 2, 1]\n",
            "Reversed list: [10, 8, 7, 6, 5, 4, 2, 1]\n",
            "List copy: [10, 8, 7, 6, 5, 4, 2, 1]\n"
          ]
        }
      ],
      "source": [
        "# Creating a sample list\n",
        "my_list = [1, 2, 3, 4, 5]\n",
        "\n",
        "# Append: Add an element to the end of the list\n",
        "my_list.append(6)\n",
        "\n",
        "# Extend: Add elements from another iterable to the end of the list\n",
        "my_list.extend([7, 8, 9])\n",
        "\n",
        "# Insert: Insert an element at a specific index\n",
        "my_list.insert(3, 10)\n",
        "\n",
        "# Remove: Remove the first occurrence of a value\n",
        "my_list.remove(3)\n",
        "\n",
        "# Pop: Remove and return an element from a specific index\n",
        "popped_element = my_list.pop(8)\n",
        "\n",
        "# Index: Return the index of the first occurrence of a value\n",
        "index_of_5 = my_list.index(5)\n",
        "\n",
        "# Count: Count the occurrences of a value in the list\n",
        "count_of_2 = my_list.count(2)\n",
        "\n",
        "# Sort: Sort the list in ascending order\n",
        "my_list.sort()\n",
        "\n",
        "# Reverse: Reverse the elements of the list in place\n",
        "my_list.reverse()\n",
        "\n",
        "# Copy: Create a shallow copy of the list\n",
        "my_list_copy = my_list.copy()\n",
        "\n",
        "# Clear: Remove all elements from the list\n",
        "#my_list.clear()\n",
        "\n",
        "# Output the results\n",
        "print(\"After append and extend:\", my_list)\n",
        "print(\"After insert and remove:\", my_list)\n",
        "print(\"Popped element:\", popped_element)\n",
        "print(\"Index of 5:\", index_of_5)\n",
        "print(\"Count of 2:\", count_of_2)\n",
        "print(\"Sorted list:\", my_list)\n",
        "print(\"Reversed list:\", my_list)\n",
        "print(\"List copy:\", my_list_copy)\n"
      ]
    },
    {
      "cell_type": "code",
      "source": [
        "# Creating a sample list with repeated elements\n",
        "my_list = [1, 10, 3, 2, 4, 2, 5, 2]\n",
        "\n",
        "# Count the occurrences of a specific value in the list\n",
        "count_of_2 = my_list.count(10)\n",
        "\n",
        "# Output the result\n",
        "print(\"Count of 2:\", count_of_2)"
      ],
      "metadata": {
        "colab": {
          "base_uri": "https://localhost:8080/"
        },
        "id": "-qHrlET66YiL",
        "outputId": "9102835b-1001-4537-c186-d8a3e1decc5c"
      },
      "execution_count": null,
      "outputs": [
        {
          "output_type": "stream",
          "name": "stdout",
          "text": [
            "Count of 2: 1\n"
          ]
        }
      ]
    }
  ]
}