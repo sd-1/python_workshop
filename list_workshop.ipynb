{
  "nbformat": 4,
  "nbformat_minor": 0,
  "metadata": {
    "colab": {
      "provenance": [],
      "authorship_tag": "ABX9TyPy7ncJZQsVsZolCrZoBdNs",
      "include_colab_link": true
    },
    "kernelspec": {
      "name": "python3",
      "display_name": "Python 3"
    },
    "language_info": {
      "name": "python"
    }
  },
  "cells": [
    {
      "cell_type": "markdown",
      "metadata": {
        "id": "view-in-github",
        "colab_type": "text"
      },
      "source": [
        "<a href=\"https://colab.research.google.com/github/sd-1/python_workshop/blob/main/list_workshop.ipynb\" target=\"_parent\"><img src=\"https://colab.research.google.com/assets/colab-badge.svg\" alt=\"Open In Colab\"/></a>"
      ]
    },
    {
      "cell_type": "code",
      "execution_count": null,
      "metadata": {
        "colab": {
          "base_uri": "https://localhost:8080/"
        },
        "id": "jYnFcWeziEi8",
        "outputId": "fcb0dbbb-6d99-4c02-9c69-da147684a695"
      },
      "outputs": [
        {
          "output_type": "execute_result",
          "data": {
            "text/plain": [
              "[9, 8, 7, 6, 5.5, 3, 2, 1]"
            ]
          },
          "metadata": {},
          "execution_count": 6
        }
      ],
      "source": [
        "my_list = [1, 2, 3, 'hello', 5.5]\n",
        "my_list.append(6)\n",
        "my_list.extend([7, 8, 9])\n",
        "my_list.insert(2, 'world')\n",
        "my_list.remove('hello')\n",
        "popped_element = my_list.pop(2)\n",
        "index = my_list.index(3)\n",
        "occurrences = my_list.count(5.5)\n",
        "my_list.sort()\n",
        "my_list.reverse()"
      ]
    }
  ]
}