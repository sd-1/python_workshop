{
  "nbformat": 4,
  "nbformat_minor": 0,
  "metadata": {
    "colab": {
      "provenance": [],
      "authorship_tag": "ABX9TyOWNnzIovTjSKcn/5PfdffS",
      "include_colab_link": true
    },
    "kernelspec": {
      "name": "python3",
      "display_name": "Python 3"
    },
    "language_info": {
      "name": "python"
    }
  },
  "cells": [
    {
      "cell_type": "markdown",
      "metadata": {
        "id": "view-in-github",
        "colab_type": "text"
      },
      "source": [
        "<a href=\"https://colab.research.google.com/github/sd-1/python_workshop/blob/main/index_python.ipynb\" target=\"_parent\"><img src=\"https://colab.research.google.com/assets/colab-badge.svg\" alt=\"Open In Colab\"/></a>"
      ]
    },
    {
      "cell_type": "code",
      "source": [
        "#string indexing\n",
        "name=\"Data science laboratory\"\n",
        "print(name.index('a'))\n",
        "print(name[0])\n",
        "print(name[22])\n",
        "print(name[5])\n",
        "print(name[-1])\n",
        "print(name[-23])\n",
        "print(name[-24])"
      ],
      "metadata": {
        "colab": {
          "base_uri": "https://localhost:8080/",
          "height": 280
        },
        "id": "ebXasavXH6c1",
        "outputId": "572acce7-ad72-490d-af69-9cf4c03fa789"
      },
      "execution_count": 21,
      "outputs": [
        {
          "output_type": "stream",
          "name": "stdout",
          "text": [
            "1\n",
            "D\n",
            "y\n",
            "s\n",
            "y\n",
            "D\n"
          ]
        },
        {
          "output_type": "error",
          "ename": "IndexError",
          "evalue": "string index out of range",
          "traceback": [
            "\u001b[0;31m---------------------------------------------------------------------------\u001b[0m",
            "\u001b[0;31mIndexError\u001b[0m                                Traceback (most recent call last)",
            "\u001b[0;32m<ipython-input-21-aa7a7180e23f>\u001b[0m in \u001b[0;36m<cell line: 9>\u001b[0;34m()\u001b[0m\n\u001b[1;32m      7\u001b[0m \u001b[0mprint\u001b[0m\u001b[0;34m(\u001b[0m\u001b[0mname\u001b[0m\u001b[0;34m[\u001b[0m\u001b[0;34m-\u001b[0m\u001b[0;36m1\u001b[0m\u001b[0;34m]\u001b[0m\u001b[0;34m)\u001b[0m\u001b[0;34m\u001b[0m\u001b[0;34m\u001b[0m\u001b[0m\n\u001b[1;32m      8\u001b[0m \u001b[0mprint\u001b[0m\u001b[0;34m(\u001b[0m\u001b[0mname\u001b[0m\u001b[0;34m[\u001b[0m\u001b[0;34m-\u001b[0m\u001b[0;36m23\u001b[0m\u001b[0;34m]\u001b[0m\u001b[0;34m)\u001b[0m\u001b[0;34m\u001b[0m\u001b[0;34m\u001b[0m\u001b[0m\n\u001b[0;32m----> 9\u001b[0;31m \u001b[0mprint\u001b[0m\u001b[0;34m(\u001b[0m\u001b[0mname\u001b[0m\u001b[0;34m[\u001b[0m\u001b[0;34m-\u001b[0m\u001b[0;36m24\u001b[0m\u001b[0;34m]\u001b[0m\u001b[0;34m)\u001b[0m\u001b[0;34m\u001b[0m\u001b[0;34m\u001b[0m\u001b[0m\n\u001b[0m",
            "\u001b[0;31mIndexError\u001b[0m: string index out of range"
          ]
        }
      ]
    },
    {
      "cell_type": "code",
      "execution_count": 2,
      "metadata": {
        "colab": {
          "base_uri": "https://localhost:8080/"
        },
        "id": "fCtiBuo5GjdA",
        "outputId": "ced6bd07-b4fe-48f4-f20e-8f9c00fcbb0b"
      },
      "outputs": [
        {
          "output_type": "stream",
          "name": "stdout",
          "text": [
            "Positive indexing:\n",
            "First element: apple\n",
            "Second element: banana\n",
            "\n",
            "Negative indexing:\n",
            "Last element: date\n",
            "Second last element: cherry\n",
            "\n",
            "Array indexing:\n",
            "First element: 1\n",
            "Second element: 2\n",
            "\n",
            "Range indexing:\n",
            "First element: 0\n",
            "Second element: 2\n",
            "\n",
            "Dictionary indexing:\n",
            "Value corresponding to 'a': 1\n",
            "Value corresponding to 'b': 2\n"
          ]
        }
      ],
      "source": [
        "# Lists\n",
        "my_list = ['apple', 'banana', 'cherry', 'date']\n",
        "\n",
        "# Accessing elements by positive index\n",
        "print(\"Positive indexing:\")\n",
        "print(\"First element:\", my_list[0])\n",
        "print(\"Second element:\", my_list[1])\n",
        "\n",
        "# Accessing elements by negative index\n",
        "print(\"\\nNegative indexing:\")\n",
        "print(\"Last element:\", my_list[-1])\n",
        "print(\"Second last element:\", my_list[-2])\n",
        "\n",
        "# Arrays (using numpy)\n",
        "import numpy as np\n",
        "\n",
        "my_array = np.array([1, 2, 3, 4, 5])\n",
        "\n",
        "# Accessing elements by positive index\n",
        "print(\"\\nArray indexing:\")\n",
        "print(\"First element:\", my_array[0])\n",
        "print(\"Second element:\", my_array[1])\n",
        "\n",
        "# Ranges\n",
        "my_range = range(0, 10, 2)  # Start: 0, Stop: 10 (exclusive), Step: 2\n",
        "\n",
        "# Accessing elements by positive index\n",
        "print(\"\\nRange indexing:\")\n",
        "print(\"First element:\", my_range[0])\n",
        "print(\"Second element:\", my_range[1])\n",
        "\n",
        "# Dictionaries\n",
        "my_dict = {'a': 1, 'b': 2, 'c': 3}\n",
        "\n",
        "# Accessing values by keys\n",
        "print(\"\\nDictionary indexing:\")\n",
        "print(\"Value corresponding to 'a':\", my_dict['a'])\n",
        "print(\"Value corresponding to 'b':\", my_dict['b'])\n",
        "\n"
      ]
    },
    {
      "cell_type": "code",
      "source": [
        "print(my_list.index('banana'))\n",
        "print(my_list[1])"
      ],
      "metadata": {
        "colab": {
          "base_uri": "https://localhost:8080/"
        },
        "id": "Fsy43HroHI90",
        "outputId": "9ff3ba98-955d-4e69-97bd-572bea696897"
      },
      "execution_count": 23,
      "outputs": [
        {
          "output_type": "stream",
          "name": "stdout",
          "text": [
            "1\n",
            "banana\n"
          ]
        }
      ]
    }
  ]
}