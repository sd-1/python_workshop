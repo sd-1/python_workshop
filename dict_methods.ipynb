{
  "nbformat": 4,
  "nbformat_minor": 0,
  "metadata": {
    "colab": {
      "provenance": [],
      "authorship_tag": "ABX9TyMIrYLU+pvYaZy9PalSy2QQ",
      "include_colab_link": true
    },
    "kernelspec": {
      "name": "python3",
      "display_name": "Python 3"
    },
    "language_info": {
      "name": "python"
    }
  },
  "cells": [
    {
      "cell_type": "markdown",
      "metadata": {
        "id": "view-in-github",
        "colab_type": "text"
      },
      "source": [
        "<a href=\"https://colab.research.google.com/github/sd-1/python_workshop/blob/main/dict_methods.ipynb\" target=\"_parent\"><img src=\"https://colab.research.google.com/assets/colab-badge.svg\" alt=\"Open In Colab\"/></a>"
      ]
    },
    {
      "cell_type": "code",
      "source": [
        "# Creating a dictionary\n",
        "my_dict = {\"name\": \"Alice\", \"age\": 30, \"city\": \"New York\"}\n",
        "\n",
        "# Accessing values\n",
        "name = my_dict[\"name\"]\n",
        "age = my_dict.get(\"age\", 0)  # Provide a default value if key is not found\n",
        "\n",
        "# Adding or updating items\n",
        "my_dict[\"gender\"] = \"female\"  # Add a new key-value pair\n",
        "my_dict[\"age\"] = 31  # Update the value of an existing key\n",
        "\n",
        "# Removing items\n",
        "removed_item = my_dict.pop(\"city\")  # Removes the key and returns its value\n",
        "del my_dict[\"age\"]  # Deletes the key-value pair\n",
        "\n",
        "# Checking if a key exists\n",
        "has_name = \"name\" in my_dict\n",
        "\n",
        "# Getting keys, values, and items\n",
        "keys = my_dict.keys()\n",
        "values = my_dict.values()\n",
        "items = my_dict.items()\n",
        "\n",
        "# Clearing the dictionary\n",
        "my_dict.clear()\n",
        "\n",
        "# Copying a dictionary\n",
        "copy_dict = my_dict.copy()\n",
        "\n",
        "# Creating a dictionary from keys and values\n",
        "keys_list = [\"a\", \"b\", \"c\"]\n",
        "values_list = [1, 2, 3]\n",
        "new_dict = dict(zip(keys_list, values_list))\n",
        "\n",
        "# Using the `fromkeys` method\n",
        "default_dict = dict.fromkeys(keys_list, 0)\n",
        "\n",
        "# Merging dictionaries (Python 3.9+)\n",
        "dict1 = {\"a\": 1, \"b\": 2}\n",
        "dict2 = {\"b\": 3, \"c\": 4}\n",
        "merged_dict = {**dict1, **dict2}\n",
        "\n",
        "# Using the `update` method\n",
        "dict1.update(dict2)  # Merges dict2 into dict1\n",
        "\n",
        "# Looping through keys and values\n",
        "for key in my_dict:\n",
        "    value = my_dict[key]\n",
        "\n",
        "for key, value in my_dict.items():\n",
        "    print(key, value)\n",
        "\n",
        "# Setdefault: Returns the value for a key, and sets a default value if the key is missing\n",
        "default_value = my_dict.setdefault(\"count\", 0)\n",
        "\n",
        "# Popitem: Removes and returns an arbitrary key-value pair\n",
        "key, value = my_dict.popitem()\n",
        "\n",
        "# Length of the dictionary\n",
        "dict_length = len(my_dict)\n"
      ],
      "metadata": {
        "id": "eORdr2wx40Rt"
      },
      "execution_count": null,
      "outputs": []
    }
  ]
}